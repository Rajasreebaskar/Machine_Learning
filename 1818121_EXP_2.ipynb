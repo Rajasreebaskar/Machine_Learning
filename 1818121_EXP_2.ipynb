{
  "nbformat": 4,
  "nbformat_minor": 0,
  "metadata": {
    "colab": {
      "name": "1818121_EXP_2.ipynb",
      "provenance": [],
      "toc_visible": true,
      "mount_file_id": "1l-L0LNSN5GQCfKpWG5C93gY4a-uY_w_2",
      "authorship_tag": "ABX9TyOuheWhCZbkVjLtvYoqIodP",
      "include_colab_link": true
    },
    "kernelspec": {
      "name": "python3",
      "display_name": "Python 3"
    }
  },
  "cells": [
    {
      "cell_type": "markdown",
      "metadata": {
        "id": "view-in-github",
        "colab_type": "text"
      },
      "source": [
        "<a href=\"https://colab.research.google.com/github/gomathiaravindan/Machine_Learning/blob/main/1818121_EXP_2.ipynb\" target=\"_parent\"><img src=\"https://colab.research.google.com/assets/colab-badge.svg\" alt=\"Open In Colab\"/></a>"
      ]
    },
    {
      "cell_type": "code",
      "metadata": {
        "id": "JtUOEfXckm4F",
        "colab": {
          "base_uri": "https://localhost:8080/",
          "height": 906
        },
        "outputId": "eaaa07a0-214d-40de-e68f-b4f02a5bc6fe"
      },
      "source": [
        "import pandas as pd\r\n",
        "\r\n",
        "df = pd.read_csv('gender.csv')\r\n",
        "df"
      ],
      "execution_count": null,
      "outputs": [
        {
          "output_type": "execute_result",
          "data": {
            "text/html": [
              "<div>\n",
              "<style scoped>\n",
              "    .dataframe tbody tr th:only-of-type {\n",
              "        vertical-align: middle;\n",
              "    }\n",
              "\n",
              "    .dataframe tbody tr th {\n",
              "        vertical-align: top;\n",
              "    }\n",
              "\n",
              "    .dataframe thead th {\n",
              "        text-align: right;\n",
              "    }\n",
              "</style>\n",
              "<table border=\"1\" class=\"dataframe\">\n",
              "  <thead>\n",
              "    <tr style=\"text-align: right;\">\n",
              "      <th></th>\n",
              "      <th>Gender</th>\n",
              "      <th>Height</th>\n",
              "      <th>Weight</th>\n",
              "      <th>Shoe_size</th>\n",
              "    </tr>\n",
              "  </thead>\n",
              "  <tbody>\n",
              "    <tr>\n",
              "      <th>0</th>\n",
              "      <td>Male</td>\n",
              "      <td>6.033333</td>\n",
              "      <td>176.36960</td>\n",
              "      <td>17.460317</td>\n",
              "    </tr>\n",
              "    <tr>\n",
              "      <th>1</th>\n",
              "      <td>Male</td>\n",
              "      <td>5.900000</td>\n",
              "      <td>154.32340</td>\n",
              "      <td>17.063492</td>\n",
              "    </tr>\n",
              "    <tr>\n",
              "      <th>2</th>\n",
              "      <td>Female</td>\n",
              "      <td>5.333333</td>\n",
              "      <td>132.27720</td>\n",
              "      <td>15.079365</td>\n",
              "    </tr>\n",
              "    <tr>\n",
              "      <th>3</th>\n",
              "      <td>Female</td>\n",
              "      <td>5.133333</td>\n",
              "      <td>119.04948</td>\n",
              "      <td>14.682540</td>\n",
              "    </tr>\n",
              "    <tr>\n",
              "      <th>4</th>\n",
              "      <td>Male</td>\n",
              "      <td>5.533333</td>\n",
              "      <td>143.30030</td>\n",
              "      <td>15.873016</td>\n",
              "    </tr>\n",
              "    <tr>\n",
              "      <th>5</th>\n",
              "      <td>Male</td>\n",
              "      <td>6.333333</td>\n",
              "      <td>198.41580</td>\n",
              "      <td>18.650794</td>\n",
              "    </tr>\n",
              "    <tr>\n",
              "      <th>6</th>\n",
              "      <td>Female</td>\n",
              "      <td>5.833333</td>\n",
              "      <td>141.09568</td>\n",
              "      <td>15.476190</td>\n",
              "    </tr>\n",
              "    <tr>\n",
              "      <th>7</th>\n",
              "      <td>Female</td>\n",
              "      <td>5.900000</td>\n",
              "      <td>154.32340</td>\n",
              "      <td>15.873016</td>\n",
              "    </tr>\n",
              "    <tr>\n",
              "      <th>8</th>\n",
              "      <td>Female</td>\n",
              "      <td>5.300000</td>\n",
              "      <td>121.25410</td>\n",
              "      <td>14.682540</td>\n",
              "    </tr>\n",
              "    <tr>\n",
              "      <th>9</th>\n",
              "      <td>Male</td>\n",
              "      <td>5.700000</td>\n",
              "      <td>165.34650</td>\n",
              "      <td>16.666667</td>\n",
              "    </tr>\n",
              "    <tr>\n",
              "      <th>10</th>\n",
              "      <td>Male</td>\n",
              "      <td>6.033333</td>\n",
              "      <td>187.39270</td>\n",
              "      <td>17.063492</td>\n",
              "    </tr>\n",
              "    <tr>\n",
              "      <th>11</th>\n",
              "      <td>Male</td>\n",
              "      <td>6.133333</td>\n",
              "      <td>154.32340</td>\n",
              "      <td>17.857143</td>\n",
              "    </tr>\n",
              "    <tr>\n",
              "      <th>12</th>\n",
              "      <td>Female</td>\n",
              "      <td>4.333333</td>\n",
              "      <td>110.23100</td>\n",
              "      <td>13.888889</td>\n",
              "    </tr>\n",
              "    <tr>\n",
              "      <th>13</th>\n",
              "      <td>Male</td>\n",
              "      <td>5.666667</td>\n",
              "      <td>149.91416</td>\n",
              "      <td>15.873016</td>\n",
              "    </tr>\n",
              "    <tr>\n",
              "      <th>14</th>\n",
              "      <td>Female</td>\n",
              "      <td>4.833333</td>\n",
              "      <td>123.45872</td>\n",
              "      <td>15.476190</td>\n",
              "    </tr>\n",
              "    <tr>\n",
              "      <th>15</th>\n",
              "      <td>Female</td>\n",
              "      <td>5.333333</td>\n",
              "      <td>125.66334</td>\n",
              "      <td>15.079365</td>\n",
              "    </tr>\n",
              "    <tr>\n",
              "      <th>16</th>\n",
              "      <td>Female</td>\n",
              "      <td>5.133333</td>\n",
              "      <td>130.07258</td>\n",
              "      <td>14.285714</td>\n",
              "    </tr>\n",
              "    <tr>\n",
              "      <th>17</th>\n",
              "      <td>Male</td>\n",
              "      <td>6.233333</td>\n",
              "      <td>167.55112</td>\n",
              "      <td>17.063492</td>\n",
              "    </tr>\n",
              "    <tr>\n",
              "      <th>18</th>\n",
              "      <td>Male</td>\n",
              "      <td>5.933333</td>\n",
              "      <td>176.36960</td>\n",
              "      <td>18.650794</td>\n",
              "    </tr>\n",
              "    <tr>\n",
              "      <th>19</th>\n",
              "      <td>Female</td>\n",
              "      <td>5.066667</td>\n",
              "      <td>123.45872</td>\n",
              "      <td>14.285714</td>\n",
              "    </tr>\n",
              "    <tr>\n",
              "      <th>20</th>\n",
              "      <td>Female</td>\n",
              "      <td>4.966667</td>\n",
              "      <td>99.20790</td>\n",
              "      <td>15.476190</td>\n",
              "    </tr>\n",
              "    <tr>\n",
              "      <th>21</th>\n",
              "      <td>Female</td>\n",
              "      <td>5.233333</td>\n",
              "      <td>105.82176</td>\n",
              "      <td>13.888889</td>\n",
              "    </tr>\n",
              "    <tr>\n",
              "      <th>22</th>\n",
              "      <td>Male</td>\n",
              "      <td>6.100000</td>\n",
              "      <td>123.45872</td>\n",
              "      <td>17.857143</td>\n",
              "    </tr>\n",
              "    <tr>\n",
              "      <th>23</th>\n",
              "      <td>Male</td>\n",
              "      <td>6.033333</td>\n",
              "      <td>152.11878</td>\n",
              "      <td>17.063492</td>\n",
              "    </tr>\n",
              "    <tr>\n",
              "      <th>24</th>\n",
              "      <td>Female</td>\n",
              "      <td>4.800000</td>\n",
              "      <td>132.27720</td>\n",
              "      <td>15.873016</td>\n",
              "    </tr>\n",
              "    <tr>\n",
              "      <th>25</th>\n",
              "      <td>Male</td>\n",
              "      <td>4.866667</td>\n",
              "      <td>154.32340</td>\n",
              "      <td>18.650794</td>\n",
              "    </tr>\n",
              "    <tr>\n",
              "      <th>26</th>\n",
              "      <td>Male</td>\n",
              "      <td>5.133333</td>\n",
              "      <td>176.36960</td>\n",
              "      <td>18.253968</td>\n",
              "    </tr>\n",
              "    <tr>\n",
              "      <th>27</th>\n",
              "      <td>Female</td>\n",
              "      <td>6.100000</td>\n",
              "      <td>94.79866</td>\n",
              "      <td>13.095238</td>\n",
              "    </tr>\n",
              "    <tr>\n",
              "      <th>28</th>\n",
              "      <td>Male</td>\n",
              "      <td>5.566667</td>\n",
              "      <td>110.23100</td>\n",
              "      <td>15.873016</td>\n",
              "    </tr>\n",
              "  </tbody>\n",
              "</table>\n",
              "</div>"
            ],
            "text/plain": [
              "    Gender    Height     Weight  Shoe_size\n",
              "0     Male  6.033333  176.36960  17.460317\n",
              "1     Male  5.900000  154.32340  17.063492\n",
              "2   Female  5.333333  132.27720  15.079365\n",
              "3   Female  5.133333  119.04948  14.682540\n",
              "4     Male  5.533333  143.30030  15.873016\n",
              "5     Male  6.333333  198.41580  18.650794\n",
              "6   Female  5.833333  141.09568  15.476190\n",
              "7   Female  5.900000  154.32340  15.873016\n",
              "8   Female  5.300000  121.25410  14.682540\n",
              "9     Male  5.700000  165.34650  16.666667\n",
              "10    Male  6.033333  187.39270  17.063492\n",
              "11    Male  6.133333  154.32340  17.857143\n",
              "12  Female  4.333333  110.23100  13.888889\n",
              "13    Male  5.666667  149.91416  15.873016\n",
              "14  Female  4.833333  123.45872  15.476190\n",
              "15  Female  5.333333  125.66334  15.079365\n",
              "16  Female  5.133333  130.07258  14.285714\n",
              "17    Male  6.233333  167.55112  17.063492\n",
              "18    Male  5.933333  176.36960  18.650794\n",
              "19  Female  5.066667  123.45872  14.285714\n",
              "20  Female  4.966667   99.20790  15.476190\n",
              "21  Female  5.233333  105.82176  13.888889\n",
              "22    Male  6.100000  123.45872  17.857143\n",
              "23    Male  6.033333  152.11878  17.063492\n",
              "24  Female  4.800000  132.27720  15.873016\n",
              "25    Male  4.866667  154.32340  18.650794\n",
              "26    Male  5.133333  176.36960  18.253968\n",
              "27  Female  6.100000   94.79866  13.095238\n",
              "28    Male  5.566667  110.23100  15.873016"
            ]
          },
          "metadata": {
            "tags": []
          },
          "execution_count": 17
        }
      ]
    },
    {
      "cell_type": "code",
      "metadata": {
        "colab": {
          "base_uri": "https://localhost:8080/",
          "height": 195
        },
        "id": "1J4-yS6dBCli",
        "outputId": "250ae503-eeea-4e77-c96c-f7434616b3b6"
      },
      "source": [
        "df.drop('Height', axis='columns',inplace=True)\r\n",
        "df.head()"
      ],
      "execution_count": null,
      "outputs": [
        {
          "output_type": "execute_result",
          "data": {
            "text/html": [
              "<div>\n",
              "<style scoped>\n",
              "    .dataframe tbody tr th:only-of-type {\n",
              "        vertical-align: middle;\n",
              "    }\n",
              "\n",
              "    .dataframe tbody tr th {\n",
              "        vertical-align: top;\n",
              "    }\n",
              "\n",
              "    .dataframe thead th {\n",
              "        text-align: right;\n",
              "    }\n",
              "</style>\n",
              "<table border=\"1\" class=\"dataframe\">\n",
              "  <thead>\n",
              "    <tr style=\"text-align: right;\">\n",
              "      <th></th>\n",
              "      <th>Gender</th>\n",
              "      <th>Weight</th>\n",
              "      <th>Shoe_size</th>\n",
              "    </tr>\n",
              "  </thead>\n",
              "  <tbody>\n",
              "    <tr>\n",
              "      <th>0</th>\n",
              "      <td>Male</td>\n",
              "      <td>176.36960</td>\n",
              "      <td>17.460317</td>\n",
              "    </tr>\n",
              "    <tr>\n",
              "      <th>1</th>\n",
              "      <td>Male</td>\n",
              "      <td>154.32340</td>\n",
              "      <td>17.063492</td>\n",
              "    </tr>\n",
              "    <tr>\n",
              "      <th>2</th>\n",
              "      <td>Female</td>\n",
              "      <td>132.27720</td>\n",
              "      <td>15.079365</td>\n",
              "    </tr>\n",
              "    <tr>\n",
              "      <th>3</th>\n",
              "      <td>Female</td>\n",
              "      <td>119.04948</td>\n",
              "      <td>14.682540</td>\n",
              "    </tr>\n",
              "    <tr>\n",
              "      <th>4</th>\n",
              "      <td>Male</td>\n",
              "      <td>143.30030</td>\n",
              "      <td>15.873016</td>\n",
              "    </tr>\n",
              "  </tbody>\n",
              "</table>\n",
              "</div>"
            ],
            "text/plain": [
              "   Gender     Weight  Shoe_size\n",
              "0    Male  176.36960  17.460317\n",
              "1    Male  154.32340  17.063492\n",
              "2  Female  132.27720  15.079365\n",
              "3  Female  119.04948  14.682540\n",
              "4    Male  143.30030  15.873016"
            ]
          },
          "metadata": {
            "tags": []
          },
          "execution_count": 18
        }
      ]
    },
    {
      "cell_type": "code",
      "metadata": {
        "colab": {
          "base_uri": "https://localhost:8080/",
          "height": 195
        },
        "id": "OVpLvOrIBR7t",
        "outputId": "149e1b2c-e389-4194-aa0e-6941b451a006"
      },
      "source": [
        "A = df[['Weight', 'Shoe_size']]\r\n",
        "B = df['Gender']\r\n",
        "A.head()"
      ],
      "execution_count": null,
      "outputs": [
        {
          "output_type": "execute_result",
          "data": {
            "text/html": [
              "<div>\n",
              "<style scoped>\n",
              "    .dataframe tbody tr th:only-of-type {\n",
              "        vertical-align: middle;\n",
              "    }\n",
              "\n",
              "    .dataframe tbody tr th {\n",
              "        vertical-align: top;\n",
              "    }\n",
              "\n",
              "    .dataframe thead th {\n",
              "        text-align: right;\n",
              "    }\n",
              "</style>\n",
              "<table border=\"1\" class=\"dataframe\">\n",
              "  <thead>\n",
              "    <tr style=\"text-align: right;\">\n",
              "      <th></th>\n",
              "      <th>Weight</th>\n",
              "      <th>Shoe_size</th>\n",
              "    </tr>\n",
              "  </thead>\n",
              "  <tbody>\n",
              "    <tr>\n",
              "      <th>0</th>\n",
              "      <td>176.36960</td>\n",
              "      <td>17.460317</td>\n",
              "    </tr>\n",
              "    <tr>\n",
              "      <th>1</th>\n",
              "      <td>154.32340</td>\n",
              "      <td>17.063492</td>\n",
              "    </tr>\n",
              "    <tr>\n",
              "      <th>2</th>\n",
              "      <td>132.27720</td>\n",
              "      <td>15.079365</td>\n",
              "    </tr>\n",
              "    <tr>\n",
              "      <th>3</th>\n",
              "      <td>119.04948</td>\n",
              "      <td>14.682540</td>\n",
              "    </tr>\n",
              "    <tr>\n",
              "      <th>4</th>\n",
              "      <td>143.30030</td>\n",
              "      <td>15.873016</td>\n",
              "    </tr>\n",
              "  </tbody>\n",
              "</table>\n",
              "</div>"
            ],
            "text/plain": [
              "      Weight  Shoe_size\n",
              "0  176.36960  17.460317\n",
              "1  154.32340  17.063492\n",
              "2  132.27720  15.079365\n",
              "3  119.04948  14.682540\n",
              "4  143.30030  15.873016"
            ]
          },
          "metadata": {
            "tags": []
          },
          "execution_count": 19
        }
      ]
    },
    {
      "cell_type": "code",
      "metadata": {
        "id": "o_0KU7BIBmyk"
      },
      "source": [
        "from sklearn.model_selection import train_test_split\r\n",
        "A_train, A_test, B_train, B_test = train_test_split(A,B, test_size=0.3,random_state=1)\r\n"
      ],
      "execution_count": null,
      "outputs": []
    },
    {
      "cell_type": "code",
      "metadata": {
        "colab": {
          "base_uri": "https://localhost:8080/"
        },
        "id": "K4FgJEkkB-Q_",
        "outputId": "99b99076-c1a8-4ee1-d538-dadc334c679b"
      },
      "source": [
        "from sklearn.naive_bayes import GaussianNB\r\n",
        "model = GaussianNB()\r\n",
        "model.fit(A_train, B_train)"
      ],
      "execution_count": null,
      "outputs": [
        {
          "output_type": "execute_result",
          "data": {
            "text/plain": [
              "GaussianNB(priors=None, var_smoothing=1e-09)"
            ]
          },
          "metadata": {
            "tags": []
          },
          "execution_count": 21
        }
      ]
    },
    {
      "cell_type": "code",
      "metadata": {
        "colab": {
          "base_uri": "https://localhost:8080/"
        },
        "id": "H3vNJL4-COhF",
        "outputId": "e573b004-c16c-4e1a-8279-7fc6589a17c0"
      },
      "source": [
        "B_pred = model.predict(A_test)\r\n",
        "\r\n",
        "from sklearn.metrics import accuracy_score\r\n",
        "print(\"Accuracy: \",accuracy_score(B_pred,B_test))"
      ],
      "execution_count": null,
      "outputs": [
        {
          "output_type": "stream",
          "text": [
            "Accuracy:  1.0\n"
          ],
          "name": "stdout"
        }
      ]
    },
    {
      "cell_type": "code",
      "metadata": {
        "colab": {
          "base_uri": "https://localhost:8080/"
        },
        "id": "PqqE_skTB-V5",
        "outputId": "49692a73-2579-4abe-dafd-e827ae073041"
      },
      "source": [
        "model.predict([[112.118,13.06]])"
      ],
      "execution_count": null,
      "outputs": [
        {
          "output_type": "execute_result",
          "data": {
            "text/plain": [
              "array(['Female'], dtype='<U6')"
            ]
          },
          "metadata": {
            "tags": []
          },
          "execution_count": 25
        }
      ]
    },
    {
      "cell_type": "code",
      "metadata": {
        "id": "6rSMEe203wzB"
      },
      "source": [
        ""
      ],
      "execution_count": null,
      "outputs": []
    }
  ]
}